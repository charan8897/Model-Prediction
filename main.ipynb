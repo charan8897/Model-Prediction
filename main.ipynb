{
 "cells": [
  {
   "cell_type": "code",
   "execution_count": null,
   "id": "b21947f6",
   "metadata": {},
   "outputs": [],
   "source": [
    "import pandas as pd\n",
    "import numpy as np\n",
    "import matplotlib.pyplot as plt\n",
    "from sklearn.model_selection import train_test_split\n",
    "from sklearn.metrics import mean_squared_error, r2_score\n",
    "from sklearn.linear_model import LinearRegression\n",
    "from sklearn.preprocessing import PolynomialFeatures\n",
    "from scipy.optimize import curve_fit\n",
    "import seaborn as sns\n",
    "from groq import Groq\n",
    "import fpdf\n",
    "from fpdf import FPDF\n",
    "import os\n",
    "from dotenv import load_dotenv"
   ]
  },
  {
   "cell_type": "code",
   "execution_count": null,
   "id": "ea4a317a",
   "metadata": {},
   "outputs": [],
   "source": [
    "# Load the dataset\n",
    "file_path = './scr-dataset.csv'\n",
    "data = pd.read_csv(file_path)"
   ]
  },
  {
   "cell_type": "code",
   "execution_count": null,
   "id": "9b54eec9",
   "metadata": {},
   "outputs": [],
   "source": [
    "# Display basic information about the dataset\n",
    "print(\"Dataset shape:\", data.shape)\n",
    "print(\"\\nFirst few rows of the dataset:\")\n",
    "print(data.head())"
   ]
  },
  {
   "cell_type": "code",
   "execution_count": null,
   "id": "3760b9ac",
   "metadata": {},
   "outputs": [],
   "source": [
    "print(\"\\nBasic statistics:\")\n",
    "print(data.describe())"
   ]
  },
  {
   "cell_type": "code",
   "execution_count": null,
   "id": "cc94400c",
   "metadata": {},
   "outputs": [],
   "source": [
    "# Check for missing values\n",
    "print(\"\\nMissing values:\")\n",
    "print(data.isnull().sum())"
   ]
  },
  {
   "cell_type": "code",
   "execution_count": null,
   "id": "02ab8448",
   "metadata": {
    "lines_to_next_cell": 1
   },
   "outputs": [],
   "source": [
    "# Exploratory Data Analysis\n",
    "plt.figure(figsize=(12, 6))\n",
    "plt.scatter(data['x'], data['y'], alpha=0.6)\n",
    "plt.title('Scatter Plot of x vs y')\n",
    "plt.xlabel('x')\n",
    "plt.ylabel('y')\n",
    "plt.grid(True, alpha=0.3)\n",
    "plt.savefig('scatter_plot.png')\n",
    "plt.close()"
   ]
  },
  {
   "cell_type": "code",
   "execution_count": null,
   "id": "2b9068e2",
   "metadata": {
    "lines_to_next_cell": 1
   },
   "outputs": [],
   "source": [
    "# The data appears to have a sinusoidal pattern, let's try to fit a sine function\n",
    "def sine_function(x, amplitude, frequency, phase, offset):\n",
    "    return amplitude * np.sin(frequency * x + phase) + offset"
   ]
  },
  {
   "cell_type": "code",
   "execution_count": null,
   "id": "78ffa133",
   "metadata": {},
   "outputs": [],
   "source": [
    "# Initial parameter guess\n",
    "p0 = [1.0, 1.0, 0.0, 0.0]  # [amplitude, frequency, phase, offset]"
   ]
  },
  {
   "cell_type": "code",
   "execution_count": null,
   "id": "4f69f375",
   "metadata": {},
   "outputs": [],
   "source": [
    "# Fit the sine function\n",
    "try:\n",
    "    params, params_covariance = curve_fit(sine_function, data['x'], data['y'], p0=p0)\n",
    "    print(\"\\nSine function parameters:\")\n",
    "    print(f\"Amplitude: {params[0]:.4f}\")\n",
    "    print(f\"Frequency: {params[1]:.4f}\")\n",
    "    print(f\"Phase: {params[2]:.4f}\")\n",
    "    print(f\"Offset: {params[3]:.4f}\")\n",
    "    \n",
    "    # Generate predictions using the fitted sine function\n",
    "    y_pred_sine = sine_function(data['x'], *params)\n",
    "    \n",
    "    # Calculate metrics for sine function\n",
    "    mse_sine = mean_squared_error(data['y'], y_pred_sine)\n",
    "    r2_sine = r2_score(data['y'], y_pred_sine)\n",
    "    \n",
    "    print(f\"\\nSine function - Mean Squared Error: {mse_sine:.4f}\")\n",
    "    print(f\"Sine function - R² Score: {r2_sine:.4f}\")\n",
    "    \n",
    "    # Plot the sine function fit\n",
    "    plt.figure(figsize=(12, 6))\n",
    "    plt.scatter(data['x'], data['y'], alpha=0.6, label='Data')\n",
    "    \n",
    "    # Generate a smooth curve for the fitted function\n",
    "    x_smooth = np.linspace(min(data['x']), max(data['x']), 1000)\n",
    "    y_smooth = sine_function(x_smooth, *params)\n",
    "    plt.plot(x_smooth, y_smooth, 'r-', label='Fitted Sine Function')\n",
    "    \n",
    "    plt.title('Sine Function Fit')\n",
    "    plt.xlabel('x')\n",
    "    plt.ylabel('y')\n",
    "    plt.legend()\n",
    "    plt.grid(True, alpha=0.3)\n",
    "    plt.savefig('sine_fit.png')\n",
    "    plt.close()"
   ]
  },
  {
   "cell_type": "code",
   "execution_count": null,
   "id": "a9c32767",
   "metadata": {},
   "outputs": [],
   "source": [
    "except RuntimeError as e:\n",
    "    print(f\"Error fitting sine function: {e}\")"
   ]
  },
  {
   "cell_type": "code",
   "execution_count": null,
   "id": "bae61fd5",
   "metadata": {},
   "outputs": [],
   "source": [
    "# Let's also try polynomial regression with different degrees\n",
    "degrees = [3, 5, 7, 9, 11]\n",
    "plt.figure(figsize=(14, 10))"
   ]
  },
  {
   "cell_type": "code",
   "execution_count": null,
   "id": "39de0135",
   "metadata": {},
   "outputs": [],
   "source": [
    "poly_models = {}  # Store the models for later prediction"
   ]
  },
  {
   "cell_type": "code",
   "execution_count": null,
   "id": "83694e8b",
   "metadata": {},
   "outputs": [],
   "source": [
    "for i, degree in enumerate(degrees, 1):\n",
    "    # Create polynomial features\n",
    "    poly_features = PolynomialFeatures(degree=degree)\n",
    "    X_poly = poly_features.fit_transform(data[['x']])\n",
    "    \n",
    "    # Fit polynomial regression\n",
    "    poly_model = LinearRegression()\n",
    "    poly_model.fit(X_poly, data['y'])\n",
    "    \n",
    "    # Store the model and features for later prediction\n",
    "    poly_models[degree] = (poly_model, poly_features)\n",
    "    \n",
    "    # Generate predictions\n",
    "    y_pred_poly = poly_model.predict(X_poly)\n",
    "    \n",
    "    # Calculate metrics\n",
    "    mse_poly = mean_squared_error(data['y'], y_pred_poly)\n",
    "    r2_poly = r2_score(data['y'], y_pred_poly)\n",
    "    \n",
    "    print(f\"\\nPolynomial (degree {degree}) - Mean Squared Error: {mse_poly:.4f}\")\n",
    "    print(f\"Polynomial (degree {degree}) - R² Score: {r2_poly:.4f}\")\n",
    "    \n",
    "    # Plot polynomial fit\n",
    "    plt.subplot(len(degrees), 1, i)\n",
    "    plt.scatter(data['x'], data['y'], alpha=0.4, label='Data')\n",
    "    \n",
    "    # Sort the data for smooth plotting\n",
    "    sort_idx = np.argsort(data['x'])\n",
    "    plt.plot(data['x'].iloc[sort_idx], y_pred_poly[sort_idx], 'r-', \n",
    "             label=f'Polynomial (degree {degree})')\n",
    "    \n",
    "    plt.title(f'Polynomial Regression (degree {degree})')\n",
    "    plt.xlabel('x')\n",
    "    plt.ylabel('y')\n",
    "    plt.legend()\n",
    "    plt.grid(True, alpha=0.3)"
   ]
  },
  {
   "cell_type": "code",
   "execution_count": null,
   "id": "a6371e29",
   "metadata": {
    "lines_to_next_cell": 1
   },
   "outputs": [],
   "source": [
    "plt.tight_layout()\n",
    "plt.savefig('polynomial_fits.png')\n",
    "plt.close()"
   ]
  },
  {
   "cell_type": "code",
   "execution_count": null,
   "id": "1a9d70e3",
   "metadata": {
    "lines_to_next_cell": 1
   },
   "outputs": [],
   "source": [
    "# Let's try a more complex model: a damped sine wave\n",
    "def damped_sine(x, amplitude, frequency, phase, offset, decay):\n",
    "    return amplitude * np.sin(frequency * x + phase) * np.exp(-decay * x) + offset"
   ]
  },
  {
   "cell_type": "code",
   "execution_count": null,
   "id": "6d98cade",
   "metadata": {},
   "outputs": [],
   "source": [
    "# Initial parameter guess for damped sine\n",
    "p0_damped = [1.0, 1.0, 0.0, 0.0, 0.1]  # [amplitude, frequency, phase, offset, decay]"
   ]
  },
  {
   "cell_type": "code",
   "execution_count": null,
   "id": "e1d3cf53",
   "metadata": {},
   "outputs": [],
   "source": [
    "try:\n",
    "    params_damped, _ = curve_fit(damped_sine, data['x'], data['y'], p0=p0_damped)\n",
    "    print(\"\\nDamped sine function parameters:\")\n",
    "    print(f\"Amplitude: {params_damped[0]:.4f}\")\n",
    "    print(f\"Frequency: {params_damped[1]:.4f}\")\n",
    "    print(f\"Phase: {params_damped[2]:.4f}\")\n",
    "    print(f\"Offset: {params_damped[3]:.4f}\")\n",
    "    print(f\"Decay: {params_damped[4]:.4f}\")\n",
    "    \n",
    "    # Generate predictions using the fitted damped sine function\n",
    "    y_pred_damped = damped_sine(data['x'], *params_damped)\n",
    "    \n",
    "    # Calculate metrics for damped sine function\n",
    "    mse_damped = mean_squared_error(data['y'], y_pred_damped)\n",
    "    r2_damped = r2_score(data['y'], y_pred_damped)\n",
    "    \n",
    "    print(f\"\\nDamped sine function - Mean Squared Error: {mse_damped:.4f}\")\n",
    "    print(f\"Damped sine function - R² Score: {r2_damped:.4f}\")\n",
    "    \n",
    "    # Plot the damped sine function fit\n",
    "    plt.figure(figsize=(12, 6))\n",
    "    plt.scatter(data['x'], data['y'], alpha=0.6, label='Data')\n",
    "    \n",
    "    # Generate a smooth curve for the fitted function\n",
    "    x_smooth = np.linspace(min(data['x']), max(data['x']), 1000)\n",
    "    y_smooth = damped_sine(x_smooth, *params_damped)\n",
    "    plt.plot(x_smooth, y_smooth, 'r-', label='Fitted Damped Sine Function')\n",
    "    \n",
    "    plt.title('Damped Sine Function Fit')\n",
    "    plt.xlabel('x')\n",
    "    plt.ylabel('y')\n",
    "    plt.legend()\n",
    "    plt.grid(True, alpha=0.3)\n",
    "    plt.savefig('damped_sine_fit.png')\n",
    "    plt.close()"
   ]
  },
  {
   "cell_type": "code",
   "execution_count": null,
   "id": "21f1ce18",
   "metadata": {},
   "outputs": [],
   "source": [
    "except RuntimeError as e:\n",
    "    print(f\"Error fitting damped sine function: {e}\")"
   ]
  },
  {
   "cell_type": "code",
   "execution_count": null,
   "id": "e55ac3fd",
   "metadata": {},
   "outputs": [],
   "source": [
    "# Compare all models in one plot\n",
    "plt.figure(figsize=(14, 8))\n",
    "plt.scatter(data['x'], data['y'], alpha=0.6, label='Data')"
   ]
  },
  {
   "cell_type": "code",
   "execution_count": null,
   "id": "fbfd2a15",
   "metadata": {},
   "outputs": [],
   "source": [
    "# Sort data for smooth plotting\n",
    "sort_idx = np.argsort(data['x'])\n",
    "x_sorted = data['x'].iloc[sort_idx].values\n",
    "x_smooth = np.linspace(min(data['x']), max(data['x']), 1000)"
   ]
  },
  {
   "cell_type": "code",
   "execution_count": null,
   "id": "85c03010",
   "metadata": {},
   "outputs": [],
   "source": [
    "# Plot sine function\n",
    "try:\n",
    "    y_smooth_sine = sine_function(x_smooth, *params)\n",
    "    plt.plot(x_smooth, y_smooth_sine, 'r-', label='Sine Function')\n",
    "except NameError:\n",
    "    pass"
   ]
  },
  {
   "cell_type": "code",
   "execution_count": null,
   "id": "f205f05e",
   "metadata": {},
   "outputs": [],
   "source": [
    "# Plot damped sine function\n",
    "try:\n",
    "    y_smooth_damped = damped_sine(x_smooth, *params_damped)\n",
    "    plt.plot(x_smooth, y_smooth_damped, 'g-', label='Damped Sine Function')\n",
    "except NameError:\n",
    "    pass"
   ]
  },
  {
   "cell_type": "code",
   "execution_count": null,
   "id": "e8758cc6",
   "metadata": {},
   "outputs": [],
   "source": [
    "# Plot best polynomial fit (using the highest degree)\n",
    "try:\n",
    "    best_degree = degrees[-1]\n",
    "    poly_model, poly_features = poly_models[best_degree]\n",
    "    \n",
    "    X_smooth_poly = poly_features.transform(x_smooth.reshape(-1, 1))\n",
    "    y_smooth_poly = poly_model.predict(X_smooth_poly)\n",
    "    \n",
    "    plt.plot(x_smooth, y_smooth_poly, 'b-', label=f'Polynomial (degree {best_degree})')\n",
    "except Exception as e:\n",
    "    print(f\"Error plotting polynomial: {e}\")"
   ]
  },
  {
   "cell_type": "code",
   "execution_count": null,
   "id": "34fb819f",
   "metadata": {},
   "outputs": [],
   "source": [
    "plt.title('Comparison of Different Models')\n",
    "plt.xlabel('x')\n",
    "plt.ylabel('y')\n",
    "plt.legend()\n",
    "plt.grid(True, alpha=0.3)\n",
    "plt.savefig('model_comparison.png')\n",
    "plt.close()"
   ]
  },
  {
   "cell_type": "code",
   "execution_count": null,
   "id": "32b18c2c",
   "metadata": {},
   "outputs": [],
   "source": [
    "# Print the best model based on R² score\n",
    "models = []\n",
    "try:\n",
    "    models.append(('Sine Function', r2_sine))\n",
    "except NameError:\n",
    "    pass"
   ]
  },
  {
   "cell_type": "code",
   "execution_count": null,
   "id": "2e012959",
   "metadata": {},
   "outputs": [],
   "source": [
    "try:\n",
    "    models.append(('Damped Sine Function', r2_damped))\n",
    "except NameError:\n",
    "    pass"
   ]
  },
  {
   "cell_type": "code",
   "execution_count": null,
   "id": "986a5042",
   "metadata": {},
   "outputs": [],
   "source": [
    "for degree in degrees:\n",
    "    poly_model, poly_features = poly_models[degree]\n",
    "    X_poly = poly_features.transform(data[['x']].values)\n",
    "    y_pred_poly = poly_model.predict(X_poly)\n",
    "    r2_poly = r2_score(data['y'], y_pred_poly)\n",
    "    models.append((f'Polynomial (degree {degree})', r2_poly))"
   ]
  },
  {
   "cell_type": "code",
   "execution_count": null,
   "id": "99d7a821",
   "metadata": {
    "lines_to_next_cell": 1
   },
   "outputs": [],
   "source": [
    "if models:\n",
    "    best_model = max(models, key=lambda x: x[1])\n",
    "    print(f\"\\nBest model: {best_model[0]} with R² Score: {best_model[1]:.4f}\")"
   ]
  },
  {
   "cell_type": "code",
   "execution_count": null,
   "id": "1c42a0e0",
   "metadata": {
    "lines_to_next_cell": 1
   },
   "outputs": [],
   "source": [
    "# Function to predict y for any x value using all models\n",
    "def predict_for_x(x_value):\n",
    "    print(f\"\\n--- Prediction for x = {x_value} ---\")\n",
    "    \n",
    "    predictions = {}\n",
    "    \n",
    "    # Prediction using sine function\n",
    "    try:\n",
    "        y_pred_sine = sine_function(x_value, *params)\n",
    "        print(f\"Sine function prediction: y = {y_pred_sine:.4f}\")\n",
    "        predictions['Sine Function'] = y_pred_sine\n",
    "    except NameError:\n",
    "        print(\"Sine function model not available\")\n",
    "    \n",
    "    # Prediction using damped sine function\n",
    "    try:\n",
    "        y_pred_damped = damped_sine(x_value, *params_damped)\n",
    "        print(f\"Damped sine function prediction: y = {y_pred_damped:.4f}\")\n",
    "        predictions['Damped Sine Function'] = y_pred_damped\n",
    "    except NameError:\n",
    "        print(\"Damped sine function model not available\")\n",
    "    \n",
    "    # Prediction using polynomial models\n",
    "    for degree in degrees:\n",
    "        try:\n",
    "            poly_model, poly_features = poly_models[degree]\n",
    "            X_poly = poly_features.transform([[x_value]])\n",
    "            y_pred_poly = poly_model.predict(X_poly)[0]\n",
    "            print(f\"Polynomial (degree {degree}) prediction: y = {y_pred_poly:.4f}\")\n",
    "            predictions[f'Polynomial (degree {degree})'] = y_pred_poly\n",
    "        except Exception as e:\n",
    "            print(f\"Error predicting with polynomial (degree {degree}): {e}\")\n",
    "    \n",
    "    # Identify the best model's prediction\n",
    "    if best_model[0] in predictions:\n",
    "        print(f\"\\nBest model ({best_model[0]}) prediction: y = {predictions[best_model[0]]:.4f}\")\n",
    "    \n",
    "    return predictions"
   ]
  },
  {
   "cell_type": "code",
   "execution_count": null,
   "id": "ee05410b",
   "metadata": {
    "lines_to_next_cell": 1
   },
   "outputs": [],
   "source": [
    "# Allow user to input x values for prediction\n",
    "def interactive_prediction():\n",
    "    while True:\n",
    "        try:\n",
    "            user_input = input(\"\\nEnter an x value to predict y (or 'q' to quit): \")\n",
    "            \n",
    "            if user_input.lower() == 'q':\n",
    "                break\n",
    "                \n",
    "            x_value = float(user_input)\n",
    "            predictions = predict_for_x(x_value)\n",
    "            \n",
    "            # Visualize this prediction\n",
    "            plt.figure(figsize=(14, 8))\n",
    "            plt.scatter(data['x'], data['y'], alpha=0.6, label='Data')\n",
    "            \n",
    "            # Extended range for visualization\n",
    "            min_x = min(min(data['x']), x_value - 5)\n",
    "            max_x = max(max(data['x']), x_value + 5)\n",
    "            x_extended = np.linspace(min_x, max_x, 1000)\n",
    "            \n",
    "            # Plot sine function with extended range\n",
    "            try:\n",
    "                y_extended_sine = sine_function(x_extended, *params)\n",
    "                plt.plot(x_extended, y_extended_sine, 'r-', label='Sine Function')\n",
    "                plt.scatter(x_value, sine_function(x_value, *params), color='red', s=100, \n",
    "                            marker='x')\n",
    "            except NameError:\n",
    "                pass\n",
    "            \n",
    "            # Plot damped sine function with extended range\n",
    "            try:\n",
    "                y_extended_damped = damped_sine(x_extended, *params_damped)\n",
    "                plt.plot(x_extended, y_extended_damped, 'g-', label='Damped Sine Function')\n",
    "                plt.scatter(x_value, damped_sine(x_value, *params_damped), color='green', s=100, \n",
    "                            marker='x')\n",
    "            except NameError:\n",
    "                pass\n",
    "            \n",
    "            # Plot best polynomial with extended range\n",
    "            try:\n",
    "                best_degree = degrees[-1]\n",
    "                poly_model, poly_features = poly_models[best_degree]\n",
    "                \n",
    "                X_extended_poly = poly_features.transform(x_extended.reshape(-1, 1))\n",
    "                y_extended_poly = poly_model.predict(X_extended_poly)\n",
    "                \n",
    "                plt.plot(x_extended, y_extended_poly, 'b-', label=f'Polynomial (degree {best_degree})')\n",
    "                \n",
    "                X_poly_point = poly_features.transform([[x_value]])\n",
    "                y_poly_point = poly_model.predict(X_poly_point)[0]\n",
    "                plt.scatter(x_value, y_poly_point, color='blue', s=100, marker='x')\n",
    "            except Exception as e:\n",
    "                print(f\"Error plotting extended polynomial: {e}\")\n",
    "            \n",
    "            plt.axvline(x=x_value, color='gray', linestyle='--', alpha=0.5)\n",
    "            plt.title(f'Model Predictions with Highlight at x = {x_value}')\n",
    "            plt.xlabel('x')\n",
    "            plt.ylabel('y')\n",
    "            plt.legend()\n",
    "            plt.grid(True, alpha=0.3)\n",
    "            plt.savefig(f'prediction_x_{x_value}.png')\n",
    "            plt.close()\n",
    "            \n",
    "        except ValueError:\n",
    "            print(\"Please enter a valid number or 'q' to quit.\")\n",
    "        except Exception as e:\n",
    "            print(f\"An error occurred: {e}\")"
   ]
  },
  {
   "cell_type": "code",
   "execution_count": null,
   "id": "d040da44",
   "metadata": {},
   "outputs": [],
   "source": [
    "# First, let's predict for x = 50 as an example\n",
    "predict_for_x(50)"
   ]
  },
  {
   "cell_type": "code",
   "execution_count": null,
   "id": "16846911",
   "metadata": {},
   "outputs": [],
   "source": [
    "# Then, let's allow interactive predictions\n",
    "print(\"\\n\\nYou can now predict y for any x value interactively.\")\n",
    "interactive_prediction()"
   ]
  },
  {
   "cell_type": "code",
   "execution_count": null,
   "id": "12993fe9",
   "metadata": {},
   "outputs": [],
   "source": [
    "# Save the models for later use\n",
    "import pickle"
   ]
  },
  {
   "cell_type": "code",
   "execution_count": null,
   "id": "0a5ef26e",
   "metadata": {},
   "outputs": [],
   "source": [
    "# Save the models to files\n",
    "try:\n",
    "    # Save sine function parameters\n",
    "    with open('sine_model.pkl', 'wb') as f:\n",
    "        pickle.dump(params, f)\n",
    "    print(\"Sine function model saved to 'sine_model.pkl'\")\n",
    "except NameError:\n",
    "    print(\"Sine function model not available for saving\")"
   ]
  },
  {
   "cell_type": "code",
   "execution_count": null,
   "id": "303451c0",
   "metadata": {},
   "outputs": [],
   "source": [
    "try:\n",
    "    # Save damped sine function parameters\n",
    "    with open('damped_sine_model.pkl', 'wb') as f:\n",
    "        pickle.dump(params_damped, f)\n",
    "    print(\"Damped sine function model saved to 'damped_sine_model.pkl'\")\n",
    "except NameError:\n",
    "    print(\"Damped sine function model not available for saving\")"
   ]
  },
  {
   "cell_type": "code",
   "execution_count": null,
   "id": "521906aa",
   "metadata": {},
   "outputs": [],
   "source": [
    "# Save polynomial models\n",
    "for degree in degrees:\n",
    "    try:\n",
    "        with open(f'poly_model_degree_{degree}.pkl', 'wb') as f:\n",
    "            pickle.dump(poly_models[degree], f)\n",
    "        print(f\"Polynomial model (degree {degree}) saved to 'poly_model_degree_{degree}.pkl'\")\n",
    "    except Exception as e:\n",
    "        print(f\"Error saving polynomial model (degree {degree}): {e}\")"
   ]
  },
  {
   "cell_type": "code",
   "execution_count": null,
   "id": "943ec622",
   "metadata": {
    "lines_to_next_cell": 1
   },
   "outputs": [],
   "source": [
    "print(\"\\nAll models have been saved. You can load them later for predictions without retraining.\")"
   ]
  },
  {
   "cell_type": "code",
   "execution_count": null,
   "id": "0f95b34d",
   "metadata": {
    "lines_to_next_cell": 1
   },
   "outputs": [],
   "source": [
    "# Function to generate a summary of results using Groq API\n",
    "def generate_analysis_with_groq(model_results, predictions):\n",
    "    load_dotenv()  # Load API key from .env file\n",
    "    \n",
    "    # Initialize Groq client\n",
    "    client = Groq(api_key=os.getenv(\"GROQ_API_KEY\"))\n",
    "    \n",
    "    # Create a prompt with the model results\n",
    "    prompt = f\"\"\"\n",
    "    I have fitted several models to a dataset with x and y values. Here are the results:\n",
    "    \n",
    "    Dataset Information:\n",
    "    - Shape: {data.shape}\n",
    "    - X range: {data['x'].min()} to {data['x'].max()}\n",
    "    - Y range: {data['y'].min()} to {data['y'].max()}\n",
    "    \n",
    "    Model Performance:\n",
    "    {model_results}\n",
    "    \n",
    "    Predictions for x = 50:\n",
    "    {predictions}\n",
    "    \n",
    "    Please analyze these results and explain:\n",
    "    1. Which model performed best and why?\n",
    "    2. What pattern does the data follow?\n",
    "    3. Why do some models perform poorly for extrapolation?\n",
    "    4. What would be your recommendation for making predictions with this data?\n",
    "    \n",
    "    Format your response in a clear, professional way suitable for a technical report.\n",
    "    \"\"\"\n",
    "    \n",
    "    # Call Groq API\n",
    "    chat_completion = client.chat.completions.create(\n",
    "        messages=[\n",
    "            {\n",
    "                \"role\": \"user\",\n",
    "                \"content\": prompt,\n",
    "            }\n",
    "        ],\n",
    "        model=\"llama3-70b-8192\",  # You can change the model as needed\n",
    "    )\n",
    "    \n",
    "    # Return the generated analysis\n",
    "    return chat_completion.choices[0].message.content"
   ]
  },
  {
   "cell_type": "code",
   "execution_count": null,
   "id": "9fb720a6",
   "metadata": {
    "lines_to_next_cell": 1
   },
   "outputs": [],
   "source": [
    "# Function to create a PDF report\n",
    "def create_pdf_report(analysis, model_results, predictions, best_model_name):\n",
    "    pdf = FPDF()\n",
    "    pdf.add_page()\n",
    "    \n",
    "    # Set up fonts\n",
    "    pdf.set_font(\"Arial\", \"B\", 16)\n",
    "    pdf.cell(0, 10, \"Data Analysis and Model Prediction Report\", ln=True, align=\"C\")\n",
    "    pdf.ln(5)\n",
    "    \n",
    "    # Add date\n",
    "    pdf.set_font(\"Arial\", \"I\", 10)\n",
    "    from datetime import datetime\n",
    "    pdf.cell(0, 10, f\"Generated on: {datetime.now().strftime('%Y-%m-%d %H:%M:%S')}\", ln=True)\n",
    "    pdf.ln(5)\n",
    "    \n",
    "    # Dataset information\n",
    "    pdf.set_font(\"Arial\", \"B\", 12)\n",
    "    pdf.cell(0, 10, \"Dataset Information:\", ln=True)\n",
    "    pdf.set_font(\"Arial\", \"\", 10)\n",
    "    pdf.multi_cell(0, 5, f\"Shape: {data.shape}\\nX range: {data['x'].min()} to {data['x'].max()}\\nY range: {data['y'].min():.4f} to {data['y'].max():.4f}\")\n",
    "    pdf.ln(5)\n",
    "    \n",
    "    # Model performance\n",
    "    pdf.set_font(\"Arial\", \"B\", 12)\n",
    "    pdf.cell(0, 10, \"Model Performance:\", ln=True)\n",
    "    pdf.set_font(\"Arial\", \"\", 10)\n",
    "    pdf.multi_cell(0, 5, model_results)\n",
    "    pdf.ln(5)\n",
    "    \n",
    "    # Best model\n",
    "    pdf.set_font(\"Arial\", \"B\", 12)\n",
    "    pdf.cell(0, 10, f\"Best Model: {best_model_name}\", ln=True)\n",
    "    pdf.ln(5)\n",
    "    \n",
    "    # Predictions\n",
    "    pdf.set_font(\"Arial\", \"B\", 12)\n",
    "    pdf.cell(0, 10, \"Predictions for x = 50:\", ln=True)\n",
    "    pdf.set_font(\"Arial\", \"\", 10)\n",
    "    pdf.multi_cell(0, 5, predictions)\n",
    "    pdf.ln(5)\n",
    "    \n",
    "    # Add images\n",
    "    for img in ['scatter_plot.png', 'sine_fit.png', 'damped_sine_fit.png', 'model_comparison.png']:\n",
    "        if os.path.exists(img):\n",
    "            pdf.add_page()\n",
    "            pdf.set_font(\"Arial\", \"B\", 12)\n",
    "            pdf.cell(0, 10, f\"Figure: {img.replace('_', ' ').replace('.png', '')}\", ln=True)\n",
    "            pdf.image(img, x=10, y=30, w=180)\n",
    "    \n",
    "    # Analysis from Groq\n",
    "    pdf.add_page()\n",
    "    pdf.set_font(\"Arial\", \"B\", 14)\n",
    "    pdf.cell(0, 10, \"AI Analysis of Results:\", ln=True)\n",
    "    pdf.ln(5)\n",
    "    pdf.set_font(\"Arial\", \"\", 10)\n",
    "    \n",
    "    # Split the analysis into paragraphs and add to PDF\n",
    "    paragraphs = analysis.split('\\n\\n')\n",
    "    for paragraph in paragraphs:\n",
    "        if paragraph.strip():\n",
    "            pdf.multi_cell(0, 5, paragraph.strip())\n",
    "            pdf.ln(3)\n",
    "    \n",
    "    # Save the PDF\n",
    "    pdf_path = \"model_analysis_report.pdf\"\n",
    "    pdf.output(pdf_path)\n",
    "    print(f\"\\nReport saved as {pdf_path}\")\n",
    "    return pdf_path"
   ]
  },
  {
   "cell_type": "code",
   "execution_count": null,
   "id": "0569df91",
   "metadata": {},
   "outputs": [],
   "source": [
    "# After your model evaluation code, add this:\n",
    "if models:\n",
    "    # Format model results as text\n",
    "    model_results_text = \"\\n\".join([f\"{name}: R² Score = {score:.4f}\" for name, score in models])\n",
    "    \n",
    "    # Format predictions as text\n",
    "    predictions_text = \"\"\n",
    "    try:\n",
    "        predictions_text += f\"Sine Function: {sine_function(50, *params):.4f}\\n\"\n",
    "    except NameError:\n",
    "        pass\n",
    "    \n",
    "    try:\n",
    "        predictions_text += f\"Damped Sine Function: {damped_sine(50, *params_damped):.4f}\\n\"\n",
    "    except NameError:\n",
    "        pass\n",
    "    \n",
    "    for degree in degrees:\n",
    "        try:\n",
    "            poly_model, poly_features = poly_models[degree]\n",
    "            X_poly = poly_features.transform([[50]])\n",
    "            y_pred = poly_model.predict(X_poly)[0]\n",
    "            predictions_text += f\"Polynomial (degree {degree}): {y_pred:.4f}\\n\"\n",
    "        except Exception:\n",
    "            pass\n",
    "    \n",
    "    # Generate analysis with Groq\n",
    "    print(\"\\nGenerating analysis with Groq API...\")\n",
    "    analysis = generate_analysis_with_groq(model_results_text, predictions_text)\n",
    "    \n",
    "    # Create PDF report\n",
    "    print(\"Creating PDF report...\")\n",
    "    pdf_path = create_pdf_report(analysis, model_results_text, predictions_text, best_model[0])\n",
    "    \n",
    "    print(f\"Analysis complete! PDF report saved as {pdf_path}\")"
   ]
  }
 ],
 "metadata": {
  "jupytext": {
   "cell_metadata_filter": "-all",
   "main_language": "python",
   "notebook_metadata_filter": "-all"
  }
 },
 "nbformat": 4,
 "nbformat_minor": 5
}
